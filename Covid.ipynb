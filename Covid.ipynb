{
 "cells": [
  {
   "cell_type": "code",
   "execution_count": 1,
   "id": "da465d5d",
   "metadata": {},
   "outputs": [],
   "source": [
    "import numpy as np\n",
    "import pandas as pd"
   ]
  },
  {
   "cell_type": "code",
   "execution_count": 2,
   "id": "19260af8",
   "metadata": {},
   "outputs": [],
   "source": [
    "Data = pd.read_csv(\"Press_Covid.csv\")"
   ]
  },
  {
   "cell_type": "code",
   "execution_count": 3,
   "id": "f93e5a3f",
   "metadata": {},
   "outputs": [
    {
     "data": {
      "text/plain": [
       "PublishedDate        0\n",
       "PostId               0\n",
       "ArticleId            0\n",
       "Title                0\n",
       "Description          0\n",
       "Content              0\n",
       "Author           13560\n",
       "Location         13560\n",
       "Url                  0\n",
       "Category             0\n",
       "Website              0\n",
       "Day                  0\n",
       "Month                0\n",
       "Year                 0\n",
       "Weness               0\n",
       "Covid                0\n",
       "dtype: int64"
      ]
     },
     "execution_count": 3,
     "metadata": {},
     "output_type": "execute_result"
    }
   ],
   "source": [
    "Data.isnull().sum()"
   ]
  },
  {
   "cell_type": "code",
   "execution_count": 4,
   "id": "56e73f9f",
   "metadata": {},
   "outputs": [
    {
     "data": {
      "text/html": [
       "<div>\n",
       "<style scoped>\n",
       "    .dataframe tbody tr th:only-of-type {\n",
       "        vertical-align: middle;\n",
       "    }\n",
       "\n",
       "    .dataframe tbody tr th {\n",
       "        vertical-align: top;\n",
       "    }\n",
       "\n",
       "    .dataframe thead th {\n",
       "        text-align: right;\n",
       "    }\n",
       "</style>\n",
       "<table border=\"1\" class=\"dataframe\">\n",
       "  <thead>\n",
       "    <tr style=\"text-align: right;\">\n",
       "      <th></th>\n",
       "      <th>PublishedDate</th>\n",
       "      <th>PostId</th>\n",
       "      <th>ArticleId</th>\n",
       "      <th>Title</th>\n",
       "      <th>Description</th>\n",
       "      <th>Content</th>\n",
       "      <th>Author</th>\n",
       "      <th>Location</th>\n",
       "      <th>Url</th>\n",
       "      <th>Category</th>\n",
       "      <th>Website</th>\n",
       "      <th>Day</th>\n",
       "      <th>Month</th>\n",
       "      <th>Year</th>\n",
       "      <th>Weness</th>\n",
       "      <th>Covid</th>\n",
       "    </tr>\n",
       "  </thead>\n",
       "  <tbody>\n",
       "    <tr>\n",
       "      <th>0</th>\n",
       "      <td>2021-09-18 16:30:00</td>\n",
       "      <td>1</td>\n",
       "      <td>446929</td>\n",
       "      <td>\\n        Vì sao phải thần tốc xét nghiệm diện...</td>\n",
       "      <td>\\n            (Chinhphu.vn) - Việc xét nghiệm ...</td>\n",
       "      <td>\\n            (Chinhphu.vn) - Việc xét nghiệm ...</td>\n",
       "      <td>NaN</td>\n",
       "      <td>NaN</td>\n",
       "      <td>https://baochinhphu.vn/Thoi-su/Vi-sao-phai-tha...</td>\n",
       "      <td>Chính trị</td>\n",
       "      <td>BAOCHINHPHU</td>\n",
       "      <td>18.0</td>\n",
       "      <td>9.0</td>\n",
       "      <td>2021.0</td>\n",
       "      <td>1</td>\n",
       "      <td>1</td>\n",
       "    </tr>\n",
       "    <tr>\n",
       "      <th>1</th>\n",
       "      <td>2021-09-17 21:21:00</td>\n",
       "      <td>2</td>\n",
       "      <td>446843</td>\n",
       "      <td>\\n        Bộ Chính trị cơ bản đồng tình với đá...</td>\n",
       "      <td>\\n            (Chinhphu.vn) - Bộ Chính trị cơ ...</td>\n",
       "      <td>\\n            (Chinhphu.vn) - Bộ Chính trị cơ ...</td>\n",
       "      <td>NaN</td>\n",
       "      <td>NaN</td>\n",
       "      <td>https://baochinhphu.vn/Thoi-su/Bo-Chinh-tri-co...</td>\n",
       "      <td>Chính trị</td>\n",
       "      <td>BAOCHINHPHU</td>\n",
       "      <td>17.0</td>\n",
       "      <td>9.0</td>\n",
       "      <td>2021.0</td>\n",
       "      <td>1</td>\n",
       "      <td>1</td>\n",
       "    </tr>\n",
       "    <tr>\n",
       "      <th>2</th>\n",
       "      <td>2021-09-17 21:16:00</td>\n",
       "      <td>3</td>\n",
       "      <td>446901</td>\n",
       "      <td>\\n        Xét nghiệm vùng đỏ dựa trên điều tra...</td>\n",
       "      <td>\\n            (Chinhphu.vn) - Đây là yêu cầu c...</td>\n",
       "      <td>\\n            (Chinhphu.vn) - Đây là yêu cầu c...</td>\n",
       "      <td>NaN</td>\n",
       "      <td>NaN</td>\n",
       "      <td>https://baochinhphu.vn/Thoi-su/Xet-nghiem-vung...</td>\n",
       "      <td>Chính trị</td>\n",
       "      <td>BAOCHINHPHU</td>\n",
       "      <td>17.0</td>\n",
       "      <td>9.0</td>\n",
       "      <td>2021.0</td>\n",
       "      <td>1</td>\n",
       "      <td>1</td>\n",
       "    </tr>\n",
       "    <tr>\n",
       "      <th>3</th>\n",
       "      <td>2021-09-17 20:17:00</td>\n",
       "      <td>4</td>\n",
       "      <td>446897</td>\n",
       "      <td>\\n        Đan Mạch cam kết tích cực hỗ trợ vac...</td>\n",
       "      <td>\\n            (Chinhphu.vn) - Đan Mạch sẵn sàn...</td>\n",
       "      <td>\\n            (Chinhphu.vn) - Đan Mạch sẵn sàn...</td>\n",
       "      <td>NaN</td>\n",
       "      <td>NaN</td>\n",
       "      <td>https://baochinhphu.vn/Doi-ngoai/Dan-Mach-cam-...</td>\n",
       "      <td>Chính trị</td>\n",
       "      <td>BAOCHINHPHU</td>\n",
       "      <td>17.0</td>\n",
       "      <td>9.0</td>\n",
       "      <td>2021.0</td>\n",
       "      <td>0</td>\n",
       "      <td>1</td>\n",
       "    </tr>\n",
       "    <tr>\n",
       "      <th>4</th>\n",
       "      <td>2021-09-17 18:59:00</td>\n",
       "      <td>7</td>\n",
       "      <td>446874</td>\n",
       "      <td>\\n        Tổ công tác của UBTVQH về phòng, chố...</td>\n",
       "      <td>\\n            (Chinhphu.vn) - Sáng 17/9, tại N...</td>\n",
       "      <td>\\n            (Chinhphu.vn) - Sáng 17/9, tại N...</td>\n",
       "      <td>NaN</td>\n",
       "      <td>NaN</td>\n",
       "      <td>https://baochinhphu.vn/Thoi-su/To-cong-tac-cua...</td>\n",
       "      <td>Chính trị</td>\n",
       "      <td>BAOCHINHPHU</td>\n",
       "      <td>17.0</td>\n",
       "      <td>9.0</td>\n",
       "      <td>2021.0</td>\n",
       "      <td>0</td>\n",
       "      <td>1</td>\n",
       "    </tr>\n",
       "    <tr>\n",
       "      <th>...</th>\n",
       "      <td>...</td>\n",
       "      <td>...</td>\n",
       "      <td>...</td>\n",
       "      <td>...</td>\n",
       "      <td>...</td>\n",
       "      <td>...</td>\n",
       "      <td>...</td>\n",
       "      <td>...</td>\n",
       "      <td>...</td>\n",
       "      <td>...</td>\n",
       "      <td>...</td>\n",
       "      <td>...</td>\n",
       "      <td>...</td>\n",
       "      <td>...</td>\n",
       "      <td>...</td>\n",
       "      <td>...</td>\n",
       "    </tr>\n",
       "    <tr>\n",
       "      <th>13555</th>\n",
       "      <td>2020-02-04 09:00:00</td>\n",
       "      <td>27024</td>\n",
       "      <td>386595</td>\n",
       "      <td>\\n        Phát hiện đột biến gene trong chủng ...</td>\n",
       "      <td>\\n            (Chinhphu.vn) - Các nhà khoa học...</td>\n",
       "      <td>\\n            (Chinhphu.vn) - Các nhà khoa học...</td>\n",
       "      <td>NaN</td>\n",
       "      <td>NaN</td>\n",
       "      <td>https://baochinhphu.vn/Khoa-hoc-Cong-nghe/Phat...</td>\n",
       "      <td>Khoa giáo</td>\n",
       "      <td>BAOCHINHPHU</td>\n",
       "      <td>4.0</td>\n",
       "      <td>2.0</td>\n",
       "      <td>2020.0</td>\n",
       "      <td>0</td>\n",
       "      <td>1</td>\n",
       "    </tr>\n",
       "    <tr>\n",
       "      <th>13556</th>\n",
       "      <td>2020-02-03 10:43:00</td>\n",
       "      <td>27027</td>\n",
       "      <td>386454</td>\n",
       "      <td>\\n        Các nước ráo riết nghiên cứu cách ph...</td>\n",
       "      <td>\\n            (Chinhphu.vn) - Các nhà khoa học...</td>\n",
       "      <td>\\n            (Chinhphu.vn) - Các nhà khoa học...</td>\n",
       "      <td>NaN</td>\n",
       "      <td>NaN</td>\n",
       "      <td>https://baochinhphu.vn/Khoa-hoc-Cong-nghe/Cac-...</td>\n",
       "      <td>Khoa giáo</td>\n",
       "      <td>BAOCHINHPHU</td>\n",
       "      <td>3.0</td>\n",
       "      <td>2.0</td>\n",
       "      <td>2020.0</td>\n",
       "      <td>0</td>\n",
       "      <td>1</td>\n",
       "    </tr>\n",
       "    <tr>\n",
       "      <th>13557</th>\n",
       "      <td>2020-02-03 10:02:00</td>\n",
       "      <td>27028</td>\n",
       "      <td>386442</td>\n",
       "      <td>\\n        20 tỉnh, thành phố cho học sinh nghỉ...</td>\n",
       "      <td>\\n            (Chinhphu.vn) - Theo thống kê củ...</td>\n",
       "      <td>\\n            (Chinhphu.vn) - Theo thống kê củ...</td>\n",
       "      <td>NaN</td>\n",
       "      <td>NaN</td>\n",
       "      <td>https://baochinhphu.vn/Giao-duc/20-tinh-thanh-...</td>\n",
       "      <td>Khoa giáo</td>\n",
       "      <td>BAOCHINHPHU</td>\n",
       "      <td>3.0</td>\n",
       "      <td>2.0</td>\n",
       "      <td>2020.0</td>\n",
       "      <td>1</td>\n",
       "      <td>1</td>\n",
       "    </tr>\n",
       "    <tr>\n",
       "      <th>13558</th>\n",
       "      <td>2020-02-02 14:00:00</td>\n",
       "      <td>27029</td>\n",
       "      <td>386391</td>\n",
       "      <td>\\n        Một số địa phương cho học sinh nghỉ ...</td>\n",
       "      <td>\\n            (Chinhphu.vn) - Sáng 2/2, Sở Giá...</td>\n",
       "      <td>\\n            (Chinhphu.vn) - Sáng 2/2, Sở Giá...</td>\n",
       "      <td>NaN</td>\n",
       "      <td>NaN</td>\n",
       "      <td>https://baochinhphu.vn/Giao-duc/Mot-so-dia-phu...</td>\n",
       "      <td>Khoa giáo</td>\n",
       "      <td>BAOCHINHPHU</td>\n",
       "      <td>2.0</td>\n",
       "      <td>2.0</td>\n",
       "      <td>2020.0</td>\n",
       "      <td>1</td>\n",
       "      <td>1</td>\n",
       "    </tr>\n",
       "    <tr>\n",
       "      <th>13559</th>\n",
       "      <td>2020-01-31 18:28:00</td>\n",
       "      <td>27030</td>\n",
       "      <td>386267</td>\n",
       "      <td>\\n        Giới thiệu bộ dụng cụ phát hiện viru...</td>\n",
       "      <td>\\n            (Chinhphu.vn) - Các chuyên gia t...</td>\n",
       "      <td>\\n            (Chinhphu.vn) - Các chuyên gia t...</td>\n",
       "      <td>NaN</td>\n",
       "      <td>NaN</td>\n",
       "      <td>https://baochinhphu.vn/Khoa-hoc-Cong-nghe/Gioi...</td>\n",
       "      <td>Khoa giáo</td>\n",
       "      <td>BAOCHINHPHU</td>\n",
       "      <td>31.0</td>\n",
       "      <td>1.0</td>\n",
       "      <td>2020.0</td>\n",
       "      <td>0</td>\n",
       "      <td>1</td>\n",
       "    </tr>\n",
       "  </tbody>\n",
       "</table>\n",
       "<p>13560 rows × 16 columns</p>\n",
       "</div>"
      ],
      "text/plain": [
       "             PublishedDate  PostId  ArticleId  \\\n",
       "0      2021-09-18 16:30:00       1     446929   \n",
       "1      2021-09-17 21:21:00       2     446843   \n",
       "2      2021-09-17 21:16:00       3     446901   \n",
       "3      2021-09-17 20:17:00       4     446897   \n",
       "4      2021-09-17 18:59:00       7     446874   \n",
       "...                    ...     ...        ...   \n",
       "13555  2020-02-04 09:00:00   27024     386595   \n",
       "13556  2020-02-03 10:43:00   27027     386454   \n",
       "13557  2020-02-03 10:02:00   27028     386442   \n",
       "13558  2020-02-02 14:00:00   27029     386391   \n",
       "13559  2020-01-31 18:28:00   27030     386267   \n",
       "\n",
       "                                                   Title  \\\n",
       "0      \\n        Vì sao phải thần tốc xét nghiệm diện...   \n",
       "1      \\n        Bộ Chính trị cơ bản đồng tình với đá...   \n",
       "2      \\n        Xét nghiệm vùng đỏ dựa trên điều tra...   \n",
       "3      \\n        Đan Mạch cam kết tích cực hỗ trợ vac...   \n",
       "4      \\n        Tổ công tác của UBTVQH về phòng, chố...   \n",
       "...                                                  ...   \n",
       "13555  \\n        Phát hiện đột biến gene trong chủng ...   \n",
       "13556  \\n        Các nước ráo riết nghiên cứu cách ph...   \n",
       "13557  \\n        20 tỉnh, thành phố cho học sinh nghỉ...   \n",
       "13558  \\n        Một số địa phương cho học sinh nghỉ ...   \n",
       "13559  \\n        Giới thiệu bộ dụng cụ phát hiện viru...   \n",
       "\n",
       "                                             Description  \\\n",
       "0      \\n            (Chinhphu.vn) - Việc xét nghiệm ...   \n",
       "1      \\n            (Chinhphu.vn) - Bộ Chính trị cơ ...   \n",
       "2      \\n            (Chinhphu.vn) - Đây là yêu cầu c...   \n",
       "3      \\n            (Chinhphu.vn) - Đan Mạch sẵn sàn...   \n",
       "4      \\n            (Chinhphu.vn) - Sáng 17/9, tại N...   \n",
       "...                                                  ...   \n",
       "13555  \\n            (Chinhphu.vn) - Các nhà khoa học...   \n",
       "13556  \\n            (Chinhphu.vn) - Các nhà khoa học...   \n",
       "13557  \\n            (Chinhphu.vn) - Theo thống kê củ...   \n",
       "13558  \\n            (Chinhphu.vn) - Sáng 2/2, Sở Giá...   \n",
       "13559  \\n            (Chinhphu.vn) - Các chuyên gia t...   \n",
       "\n",
       "                                                 Content  Author  Location  \\\n",
       "0      \\n            (Chinhphu.vn) - Việc xét nghiệm ...     NaN       NaN   \n",
       "1      \\n            (Chinhphu.vn) - Bộ Chính trị cơ ...     NaN       NaN   \n",
       "2      \\n            (Chinhphu.vn) - Đây là yêu cầu c...     NaN       NaN   \n",
       "3      \\n            (Chinhphu.vn) - Đan Mạch sẵn sàn...     NaN       NaN   \n",
       "4      \\n            (Chinhphu.vn) - Sáng 17/9, tại N...     NaN       NaN   \n",
       "...                                                  ...     ...       ...   \n",
       "13555  \\n            (Chinhphu.vn) - Các nhà khoa học...     NaN       NaN   \n",
       "13556  \\n            (Chinhphu.vn) - Các nhà khoa học...     NaN       NaN   \n",
       "13557  \\n            (Chinhphu.vn) - Theo thống kê củ...     NaN       NaN   \n",
       "13558  \\n            (Chinhphu.vn) - Sáng 2/2, Sở Giá...     NaN       NaN   \n",
       "13559  \\n            (Chinhphu.vn) - Các chuyên gia t...     NaN       NaN   \n",
       "\n",
       "                                                     Url   Category  \\\n",
       "0      https://baochinhphu.vn/Thoi-su/Vi-sao-phai-tha...  Chính trị   \n",
       "1      https://baochinhphu.vn/Thoi-su/Bo-Chinh-tri-co...  Chính trị   \n",
       "2      https://baochinhphu.vn/Thoi-su/Xet-nghiem-vung...  Chính trị   \n",
       "3      https://baochinhphu.vn/Doi-ngoai/Dan-Mach-cam-...  Chính trị   \n",
       "4      https://baochinhphu.vn/Thoi-su/To-cong-tac-cua...  Chính trị   \n",
       "...                                                  ...        ...   \n",
       "13555  https://baochinhphu.vn/Khoa-hoc-Cong-nghe/Phat...  Khoa giáo   \n",
       "13556  https://baochinhphu.vn/Khoa-hoc-Cong-nghe/Cac-...  Khoa giáo   \n",
       "13557  https://baochinhphu.vn/Giao-duc/20-tinh-thanh-...  Khoa giáo   \n",
       "13558  https://baochinhphu.vn/Giao-duc/Mot-so-dia-phu...  Khoa giáo   \n",
       "13559  https://baochinhphu.vn/Khoa-hoc-Cong-nghe/Gioi...  Khoa giáo   \n",
       "\n",
       "           Website   Day  Month    Year  Weness  Covid  \n",
       "0      BAOCHINHPHU  18.0    9.0  2021.0       1      1  \n",
       "1      BAOCHINHPHU  17.0    9.0  2021.0       1      1  \n",
       "2      BAOCHINHPHU  17.0    9.0  2021.0       1      1  \n",
       "3      BAOCHINHPHU  17.0    9.0  2021.0       0      1  \n",
       "4      BAOCHINHPHU  17.0    9.0  2021.0       0      1  \n",
       "...            ...   ...    ...     ...     ...    ...  \n",
       "13555  BAOCHINHPHU   4.0    2.0  2020.0       0      1  \n",
       "13556  BAOCHINHPHU   3.0    2.0  2020.0       0      1  \n",
       "13557  BAOCHINHPHU   3.0    2.0  2020.0       1      1  \n",
       "13558  BAOCHINHPHU   2.0    2.0  2020.0       1      1  \n",
       "13559  BAOCHINHPHU  31.0    1.0  2020.0       0      1  \n",
       "\n",
       "[13560 rows x 16 columns]"
      ]
     },
     "execution_count": 4,
     "metadata": {},
     "output_type": "execute_result"
    }
   ],
   "source": [
    "Data"
   ]
  },
  {
   "cell_type": "code",
   "execution_count": 5,
   "id": "6a43a3af",
   "metadata": {},
   "outputs": [],
   "source": [
    "list_month1 = [1, 2, 3, 4, 5, 6 , 7, 8 , 9, 10, 11, 12, 1 ,2 ,3 ,4 ,5 ,6 , 7, 8, 9]\n",
    "list_year1=[2020, 2020, 2020, 2020, 2020, 2020, 2020, 2020, 2020, 2020, 2020, 2020, 2021, 2021, 2021, 2021, 2021, 2021, 2021, 2021, 2021]\n",
    "year_month = {'Year': list_year1, 'Month': list_month1}\n",
    "Total_Covid=pd.DataFrame(year_month, columns = ['Year', 'Month'])"
   ]
  },
  {
   "cell_type": "code",
   "execution_count": 6,
   "id": "9f405902",
   "metadata": {},
   "outputs": [
    {
     "data": {
      "text/html": [
       "<div>\n",
       "<style scoped>\n",
       "    .dataframe tbody tr th:only-of-type {\n",
       "        vertical-align: middle;\n",
       "    }\n",
       "\n",
       "    .dataframe tbody tr th {\n",
       "        vertical-align: top;\n",
       "    }\n",
       "\n",
       "    .dataframe thead th {\n",
       "        text-align: right;\n",
       "    }\n",
       "</style>\n",
       "<table border=\"1\" class=\"dataframe\">\n",
       "  <thead>\n",
       "    <tr style=\"text-align: right;\">\n",
       "      <th></th>\n",
       "      <th>Year</th>\n",
       "      <th>Month</th>\n",
       "    </tr>\n",
       "  </thead>\n",
       "  <tbody>\n",
       "    <tr>\n",
       "      <th>0</th>\n",
       "      <td>2020</td>\n",
       "      <td>1</td>\n",
       "    </tr>\n",
       "    <tr>\n",
       "      <th>1</th>\n",
       "      <td>2020</td>\n",
       "      <td>2</td>\n",
       "    </tr>\n",
       "    <tr>\n",
       "      <th>2</th>\n",
       "      <td>2020</td>\n",
       "      <td>3</td>\n",
       "    </tr>\n",
       "    <tr>\n",
       "      <th>3</th>\n",
       "      <td>2020</td>\n",
       "      <td>4</td>\n",
       "    </tr>\n",
       "    <tr>\n",
       "      <th>4</th>\n",
       "      <td>2020</td>\n",
       "      <td>5</td>\n",
       "    </tr>\n",
       "    <tr>\n",
       "      <th>5</th>\n",
       "      <td>2020</td>\n",
       "      <td>6</td>\n",
       "    </tr>\n",
       "    <tr>\n",
       "      <th>6</th>\n",
       "      <td>2020</td>\n",
       "      <td>7</td>\n",
       "    </tr>\n",
       "    <tr>\n",
       "      <th>7</th>\n",
       "      <td>2020</td>\n",
       "      <td>8</td>\n",
       "    </tr>\n",
       "    <tr>\n",
       "      <th>8</th>\n",
       "      <td>2020</td>\n",
       "      <td>9</td>\n",
       "    </tr>\n",
       "    <tr>\n",
       "      <th>9</th>\n",
       "      <td>2020</td>\n",
       "      <td>10</td>\n",
       "    </tr>\n",
       "    <tr>\n",
       "      <th>10</th>\n",
       "      <td>2020</td>\n",
       "      <td>11</td>\n",
       "    </tr>\n",
       "    <tr>\n",
       "      <th>11</th>\n",
       "      <td>2020</td>\n",
       "      <td>12</td>\n",
       "    </tr>\n",
       "    <tr>\n",
       "      <th>12</th>\n",
       "      <td>2021</td>\n",
       "      <td>1</td>\n",
       "    </tr>\n",
       "    <tr>\n",
       "      <th>13</th>\n",
       "      <td>2021</td>\n",
       "      <td>2</td>\n",
       "    </tr>\n",
       "    <tr>\n",
       "      <th>14</th>\n",
       "      <td>2021</td>\n",
       "      <td>3</td>\n",
       "    </tr>\n",
       "    <tr>\n",
       "      <th>15</th>\n",
       "      <td>2021</td>\n",
       "      <td>4</td>\n",
       "    </tr>\n",
       "    <tr>\n",
       "      <th>16</th>\n",
       "      <td>2021</td>\n",
       "      <td>5</td>\n",
       "    </tr>\n",
       "    <tr>\n",
       "      <th>17</th>\n",
       "      <td>2021</td>\n",
       "      <td>6</td>\n",
       "    </tr>\n",
       "    <tr>\n",
       "      <th>18</th>\n",
       "      <td>2021</td>\n",
       "      <td>7</td>\n",
       "    </tr>\n",
       "    <tr>\n",
       "      <th>19</th>\n",
       "      <td>2021</td>\n",
       "      <td>8</td>\n",
       "    </tr>\n",
       "    <tr>\n",
       "      <th>20</th>\n",
       "      <td>2021</td>\n",
       "      <td>9</td>\n",
       "    </tr>\n",
       "  </tbody>\n",
       "</table>\n",
       "</div>"
      ],
      "text/plain": [
       "    Year  Month\n",
       "0   2020      1\n",
       "1   2020      2\n",
       "2   2020      3\n",
       "3   2020      4\n",
       "4   2020      5\n",
       "5   2020      6\n",
       "6   2020      7\n",
       "7   2020      8\n",
       "8   2020      9\n",
       "9   2020     10\n",
       "10  2020     11\n",
       "11  2020     12\n",
       "12  2021      1\n",
       "13  2021      2\n",
       "14  2021      3\n",
       "15  2021      4\n",
       "16  2021      5\n",
       "17  2021      6\n",
       "18  2021      7\n",
       "19  2021      8\n",
       "20  2021      9"
      ]
     },
     "execution_count": 6,
     "metadata": {},
     "output_type": "execute_result"
    }
   ],
   "source": [
    "Total_Covid"
   ]
  },
  {
   "cell_type": "code",
   "execution_count": 7,
   "id": "d5254d0e",
   "metadata": {},
   "outputs": [],
   "source": [
    "Total_Covid['Weness_Yes']  = 0"
   ]
  },
  {
   "cell_type": "code",
   "execution_count": 8,
   "id": "9930c25f",
   "metadata": {},
   "outputs": [],
   "source": [
    "for i in range(Total_Covid.shape[0]):\n",
    "    month = Total_Covid['Month'][i]\n",
    "    year = Total_Covid['Year'][i]\n",
    "    no = (Data[(Data['Year'] == year)& (Data['Month'] == month)]['Weness']).value_counts()[0]\n",
    "    yes =  (Data[(Data['Year'] == year)& (Data['Month'] == month)]['Weness']).value_counts()[1]\n",
    "    mean = yes/(yes+no)*100\n",
    "    Total_Covid[\"Weness_Yes\"][i] = mean"
   ]
  },
  {
   "cell_type": "code",
   "execution_count": 9,
   "id": "03b38f1f",
   "metadata": {},
   "outputs": [
    {
     "data": {
      "text/plain": [
       "1    7165\n",
       "0    6395\n",
       "Name: Weness, dtype: int64"
      ]
     },
     "execution_count": 9,
     "metadata": {},
     "output_type": "execute_result"
    }
   ],
   "source": [
    "Data['Weness'].value_counts()"
   ]
  },
  {
   "cell_type": "code",
   "execution_count": 10,
   "id": "1bf7065c",
   "metadata": {},
   "outputs": [
    {
     "data": {
      "text/html": [
       "<div>\n",
       "<style scoped>\n",
       "    .dataframe tbody tr th:only-of-type {\n",
       "        vertical-align: middle;\n",
       "    }\n",
       "\n",
       "    .dataframe tbody tr th {\n",
       "        vertical-align: top;\n",
       "    }\n",
       "\n",
       "    .dataframe thead th {\n",
       "        text-align: right;\n",
       "    }\n",
       "</style>\n",
       "<table border=\"1\" class=\"dataframe\">\n",
       "  <thead>\n",
       "    <tr style=\"text-align: right;\">\n",
       "      <th></th>\n",
       "      <th>Year</th>\n",
       "      <th>Month</th>\n",
       "      <th>Weness_Yes</th>\n",
       "    </tr>\n",
       "  </thead>\n",
       "  <tbody>\n",
       "    <tr>\n",
       "      <th>0</th>\n",
       "      <td>2020</td>\n",
       "      <td>1</td>\n",
       "      <td>36</td>\n",
       "    </tr>\n",
       "    <tr>\n",
       "      <th>1</th>\n",
       "      <td>2020</td>\n",
       "      <td>2</td>\n",
       "      <td>51</td>\n",
       "    </tr>\n",
       "    <tr>\n",
       "      <th>2</th>\n",
       "      <td>2020</td>\n",
       "      <td>3</td>\n",
       "      <td>53</td>\n",
       "    </tr>\n",
       "    <tr>\n",
       "      <th>3</th>\n",
       "      <td>2020</td>\n",
       "      <td>4</td>\n",
       "      <td>62</td>\n",
       "    </tr>\n",
       "    <tr>\n",
       "      <th>4</th>\n",
       "      <td>2020</td>\n",
       "      <td>5</td>\n",
       "      <td>57</td>\n",
       "    </tr>\n",
       "    <tr>\n",
       "      <th>5</th>\n",
       "      <td>2020</td>\n",
       "      <td>6</td>\n",
       "      <td>58</td>\n",
       "    </tr>\n",
       "    <tr>\n",
       "      <th>6</th>\n",
       "      <td>2020</td>\n",
       "      <td>7</td>\n",
       "      <td>52</td>\n",
       "    </tr>\n",
       "    <tr>\n",
       "      <th>7</th>\n",
       "      <td>2020</td>\n",
       "      <td>8</td>\n",
       "      <td>52</td>\n",
       "    </tr>\n",
       "    <tr>\n",
       "      <th>8</th>\n",
       "      <td>2020</td>\n",
       "      <td>9</td>\n",
       "      <td>57</td>\n",
       "    </tr>\n",
       "    <tr>\n",
       "      <th>9</th>\n",
       "      <td>2020</td>\n",
       "      <td>10</td>\n",
       "      <td>64</td>\n",
       "    </tr>\n",
       "    <tr>\n",
       "      <th>10</th>\n",
       "      <td>2020</td>\n",
       "      <td>11</td>\n",
       "      <td>65</td>\n",
       "    </tr>\n",
       "    <tr>\n",
       "      <th>11</th>\n",
       "      <td>2020</td>\n",
       "      <td>12</td>\n",
       "      <td>60</td>\n",
       "    </tr>\n",
       "    <tr>\n",
       "      <th>12</th>\n",
       "      <td>2021</td>\n",
       "      <td>1</td>\n",
       "      <td>55</td>\n",
       "    </tr>\n",
       "    <tr>\n",
       "      <th>13</th>\n",
       "      <td>2021</td>\n",
       "      <td>2</td>\n",
       "      <td>49</td>\n",
       "    </tr>\n",
       "    <tr>\n",
       "      <th>14</th>\n",
       "      <td>2021</td>\n",
       "      <td>3</td>\n",
       "      <td>52</td>\n",
       "    </tr>\n",
       "    <tr>\n",
       "      <th>15</th>\n",
       "      <td>2021</td>\n",
       "      <td>4</td>\n",
       "      <td>55</td>\n",
       "    </tr>\n",
       "    <tr>\n",
       "      <th>16</th>\n",
       "      <td>2021</td>\n",
       "      <td>5</td>\n",
       "      <td>45</td>\n",
       "    </tr>\n",
       "    <tr>\n",
       "      <th>17</th>\n",
       "      <td>2021</td>\n",
       "      <td>6</td>\n",
       "      <td>46</td>\n",
       "    </tr>\n",
       "    <tr>\n",
       "      <th>18</th>\n",
       "      <td>2021</td>\n",
       "      <td>7</td>\n",
       "      <td>50</td>\n",
       "    </tr>\n",
       "    <tr>\n",
       "      <th>19</th>\n",
       "      <td>2021</td>\n",
       "      <td>8</td>\n",
       "      <td>46</td>\n",
       "    </tr>\n",
       "    <tr>\n",
       "      <th>20</th>\n",
       "      <td>2021</td>\n",
       "      <td>9</td>\n",
       "      <td>48</td>\n",
       "    </tr>\n",
       "  </tbody>\n",
       "</table>\n",
       "</div>"
      ],
      "text/plain": [
       "    Year  Month  Weness_Yes\n",
       "0   2020      1          36\n",
       "1   2020      2          51\n",
       "2   2020      3          53\n",
       "3   2020      4          62\n",
       "4   2020      5          57\n",
       "5   2020      6          58\n",
       "6   2020      7          52\n",
       "7   2020      8          52\n",
       "8   2020      9          57\n",
       "9   2020     10          64\n",
       "10  2020     11          65\n",
       "11  2020     12          60\n",
       "12  2021      1          55\n",
       "13  2021      2          49\n",
       "14  2021      3          52\n",
       "15  2021      4          55\n",
       "16  2021      5          45\n",
       "17  2021      6          46\n",
       "18  2021      7          50\n",
       "19  2021      8          46\n",
       "20  2021      9          48"
      ]
     },
     "execution_count": 10,
     "metadata": {},
     "output_type": "execute_result"
    }
   ],
   "source": [
    "Total_Covid"
   ]
  },
  {
   "cell_type": "code",
   "execution_count": 11,
   "id": "4c1be043",
   "metadata": {},
   "outputs": [],
   "source": [
    "def check_word(text, list_word):\n",
    "    check_word=0\n",
    "    for work in list_word:\n",
    "        if work in text:\n",
    "            check_word = 1\n",
    "            break\n",
    "        else:\n",
    "            check_word = 0\n",
    "    return check_word"
   ]
  },
  {
   "cell_type": "code",
   "execution_count": 12,
   "id": "b6a8c074",
   "metadata": {},
   "outputs": [],
   "source": [
    "list_word=['cảm động', 'tin tưởng', 'chân thành', 'ân cần', 'hy vọng', 'bao dung', 'nhân ái', \n",
    "           'cảm thông', 'tha thiết', 'biết ơn', 'trân trọng', 'ghi nhận', 'thân yêu', 'tương thân tương ái', \n",
    "           'xúc động', 'nhân văn', 'yêu dấu',  'tin tưởng sâu sắc']"
   ]
  },
  {
   "cell_type": "code",
   "execution_count": 13,
   "id": "3535458f",
   "metadata": {},
   "outputs": [],
   "source": [
    "Data['Emotion'] = 0"
   ]
  },
  {
   "cell_type": "code",
   "execution_count": 14,
   "id": "efdea9b9",
   "metadata": {},
   "outputs": [
    {
     "name": "stderr",
     "output_type": "stream",
     "text": [
      "<ipython-input-14-4e10045f03e8>:3: SettingWithCopyWarning: \n",
      "A value is trying to be set on a copy of a slice from a DataFrame\n",
      "\n",
      "See the caveats in the documentation: https://pandas.pydata.org/pandas-docs/stable/user_guide/indexing.html#returning-a-view-versus-a-copy\n",
      "  Data['Emotion'][i]=check_word(Data['Content'][i],list_word)\n"
     ]
    }
   ],
   "source": [
    "#chạy ra kết quả.\n",
    "for i in range(Data.shape[0]):\n",
    "    Data['Emotion'][i]=check_word(Data['Content'][i],list_word)"
   ]
  },
  {
   "cell_type": "code",
   "execution_count": 15,
   "id": "b37c6768",
   "metadata": {},
   "outputs": [
    {
     "data": {
      "text/plain": [
       "0    7953\n",
       "1    5607\n",
       "Name: Emotion, dtype: int64"
      ]
     },
     "execution_count": 15,
     "metadata": {},
     "output_type": "execute_result"
    }
   ],
   "source": [
    "Data['Emotion'].value_counts()"
   ]
  },
  {
   "cell_type": "code",
   "execution_count": 16,
   "id": "a79febec",
   "metadata": {},
   "outputs": [],
   "source": [
    "Total_Covid['Emotion_Yes']  = 0"
   ]
  },
  {
   "cell_type": "code",
   "execution_count": 17,
   "id": "60b046a6",
   "metadata": {},
   "outputs": [],
   "source": [
    "for i in range(Total_Covid.shape[0]):\n",
    "    month = Total_Covid['Month'][i]\n",
    "    year = Total_Covid['Year'][i]\n",
    "    no = (Data[(Data['Year'] == year)& (Data['Month'] == month)]['Emotion']).value_counts()[0]\n",
    "    yes =  (Data[(Data['Year'] == year)& (Data['Month'] == month)]['Emotion']).value_counts()[1]\n",
    "    mean = yes/(yes+no)*100\n",
    "    Total_Covid[\"Emotion_Yes\"][i] = mean"
   ]
  },
  {
   "cell_type": "code",
   "execution_count": 18,
   "id": "46555962",
   "metadata": {},
   "outputs": [],
   "source": [
    "list_word2=['nỗ lực', 'đẩy lùi bằng được','quyết tâm', 'khẩn trương', 'mạnh mẽ', 'quyết liệt', 'sát sao', 'chặt chẽ', \n",
    "            'thực hiện nghiêm túc', 'kịp thời', 'hiệu quả', 'nỗ lực nhiều hơn nữa', 'nhất định', 'hết sức']"
   ]
  },
  {
   "cell_type": "code",
   "execution_count": 19,
   "id": "17086a32",
   "metadata": {},
   "outputs": [],
   "source": [
    "Data['Strong_Emotion'] = 0"
   ]
  },
  {
   "cell_type": "code",
   "execution_count": 20,
   "id": "ceef15ab",
   "metadata": {},
   "outputs": [
    {
     "name": "stderr",
     "output_type": "stream",
     "text": [
      "<ipython-input-20-2507fa33cda7>:2: SettingWithCopyWarning: \n",
      "A value is trying to be set on a copy of a slice from a DataFrame\n",
      "\n",
      "See the caveats in the documentation: https://pandas.pydata.org/pandas-docs/stable/user_guide/indexing.html#returning-a-view-versus-a-copy\n",
      "  Data['Strong_Emotion'][i]=check_word(Data['Content'][i],list_word2)\n"
     ]
    }
   ],
   "source": [
    "for i in range(Data.shape[0]):\n",
    "    Data['Strong_Emotion'][i]=check_word(Data['Content'][i],list_word2)"
   ]
  },
  {
   "cell_type": "code",
   "execution_count": 21,
   "id": "89fa5483",
   "metadata": {},
   "outputs": [
    {
     "data": {
      "text/plain": [
       "1    9808\n",
       "0    3752\n",
       "Name: Strong_Emotion, dtype: int64"
      ]
     },
     "execution_count": 21,
     "metadata": {},
     "output_type": "execute_result"
    }
   ],
   "source": [
    "Data['Strong_Emotion'].value_counts()"
   ]
  },
  {
   "cell_type": "code",
   "execution_count": 22,
   "id": "0e9dad7d",
   "metadata": {},
   "outputs": [],
   "source": [
    "Total_Covid['Strong_Emotion_Yes']  = 0"
   ]
  },
  {
   "cell_type": "code",
   "execution_count": 23,
   "id": "e095d50d",
   "metadata": {},
   "outputs": [],
   "source": [
    "for i in range(Total_Covid.shape[0]):\n",
    "    month = Total_Covid['Month'][i]\n",
    "    year = Total_Covid['Year'][i]\n",
    "    no = (Data[(Data['Year'] == year)& (Data['Month'] == month)]['Strong_Emotion']).value_counts()[0]\n",
    "    yes =  (Data[(Data['Year'] == year)& (Data['Month'] == month)]['Strong_Emotion']).value_counts()[1]\n",
    "    mean = yes/(yes+no)*100\n",
    "    Total_Covid[\"Strong_Emotion_Yes\"][i] = mean"
   ]
  },
  {
   "cell_type": "code",
   "execution_count": 24,
   "id": "d3a24444",
   "metadata": {},
   "outputs": [
    {
     "data": {
      "text/html": [
       "<div>\n",
       "<style scoped>\n",
       "    .dataframe tbody tr th:only-of-type {\n",
       "        vertical-align: middle;\n",
       "    }\n",
       "\n",
       "    .dataframe tbody tr th {\n",
       "        vertical-align: top;\n",
       "    }\n",
       "\n",
       "    .dataframe thead th {\n",
       "        text-align: right;\n",
       "    }\n",
       "</style>\n",
       "<table border=\"1\" class=\"dataframe\">\n",
       "  <thead>\n",
       "    <tr style=\"text-align: right;\">\n",
       "      <th></th>\n",
       "      <th>Year</th>\n",
       "      <th>Month</th>\n",
       "      <th>Weness_Yes</th>\n",
       "      <th>Emotion_Yes</th>\n",
       "      <th>Strong_Emotion_Yes</th>\n",
       "    </tr>\n",
       "  </thead>\n",
       "  <tbody>\n",
       "    <tr>\n",
       "      <th>0</th>\n",
       "      <td>2020</td>\n",
       "      <td>1</td>\n",
       "      <td>36</td>\n",
       "      <td>45</td>\n",
       "      <td>86</td>\n",
       "    </tr>\n",
       "    <tr>\n",
       "      <th>1</th>\n",
       "      <td>2020</td>\n",
       "      <td>2</td>\n",
       "      <td>51</td>\n",
       "      <td>35</td>\n",
       "      <td>76</td>\n",
       "    </tr>\n",
       "    <tr>\n",
       "      <th>2</th>\n",
       "      <td>2020</td>\n",
       "      <td>3</td>\n",
       "      <td>53</td>\n",
       "      <td>36</td>\n",
       "      <td>69</td>\n",
       "    </tr>\n",
       "    <tr>\n",
       "      <th>3</th>\n",
       "      <td>2020</td>\n",
       "      <td>4</td>\n",
       "      <td>62</td>\n",
       "      <td>34</td>\n",
       "      <td>68</td>\n",
       "    </tr>\n",
       "    <tr>\n",
       "      <th>4</th>\n",
       "      <td>2020</td>\n",
       "      <td>5</td>\n",
       "      <td>57</td>\n",
       "      <td>34</td>\n",
       "      <td>72</td>\n",
       "    </tr>\n",
       "    <tr>\n",
       "      <th>5</th>\n",
       "      <td>2020</td>\n",
       "      <td>6</td>\n",
       "      <td>58</td>\n",
       "      <td>34</td>\n",
       "      <td>78</td>\n",
       "    </tr>\n",
       "    <tr>\n",
       "      <th>6</th>\n",
       "      <td>2020</td>\n",
       "      <td>7</td>\n",
       "      <td>52</td>\n",
       "      <td>34</td>\n",
       "      <td>78</td>\n",
       "    </tr>\n",
       "    <tr>\n",
       "      <th>7</th>\n",
       "      <td>2020</td>\n",
       "      <td>8</td>\n",
       "      <td>52</td>\n",
       "      <td>36</td>\n",
       "      <td>68</td>\n",
       "    </tr>\n",
       "    <tr>\n",
       "      <th>8</th>\n",
       "      <td>2020</td>\n",
       "      <td>9</td>\n",
       "      <td>57</td>\n",
       "      <td>41</td>\n",
       "      <td>74</td>\n",
       "    </tr>\n",
       "    <tr>\n",
       "      <th>9</th>\n",
       "      <td>2020</td>\n",
       "      <td>10</td>\n",
       "      <td>64</td>\n",
       "      <td>46</td>\n",
       "      <td>79</td>\n",
       "    </tr>\n",
       "    <tr>\n",
       "      <th>10</th>\n",
       "      <td>2020</td>\n",
       "      <td>11</td>\n",
       "      <td>65</td>\n",
       "      <td>48</td>\n",
       "      <td>77</td>\n",
       "    </tr>\n",
       "    <tr>\n",
       "      <th>11</th>\n",
       "      <td>2020</td>\n",
       "      <td>12</td>\n",
       "      <td>60</td>\n",
       "      <td>46</td>\n",
       "      <td>80</td>\n",
       "    </tr>\n",
       "    <tr>\n",
       "      <th>12</th>\n",
       "      <td>2021</td>\n",
       "      <td>1</td>\n",
       "      <td>55</td>\n",
       "      <td>41</td>\n",
       "      <td>76</td>\n",
       "    </tr>\n",
       "    <tr>\n",
       "      <th>13</th>\n",
       "      <td>2021</td>\n",
       "      <td>2</td>\n",
       "      <td>49</td>\n",
       "      <td>47</td>\n",
       "      <td>71</td>\n",
       "    </tr>\n",
       "    <tr>\n",
       "      <th>14</th>\n",
       "      <td>2021</td>\n",
       "      <td>3</td>\n",
       "      <td>52</td>\n",
       "      <td>43</td>\n",
       "      <td>74</td>\n",
       "    </tr>\n",
       "    <tr>\n",
       "      <th>15</th>\n",
       "      <td>2021</td>\n",
       "      <td>4</td>\n",
       "      <td>55</td>\n",
       "      <td>45</td>\n",
       "      <td>75</td>\n",
       "    </tr>\n",
       "    <tr>\n",
       "      <th>16</th>\n",
       "      <td>2021</td>\n",
       "      <td>5</td>\n",
       "      <td>45</td>\n",
       "      <td>46</td>\n",
       "      <td>70</td>\n",
       "    </tr>\n",
       "    <tr>\n",
       "      <th>17</th>\n",
       "      <td>2021</td>\n",
       "      <td>6</td>\n",
       "      <td>46</td>\n",
       "      <td>47</td>\n",
       "      <td>69</td>\n",
       "    </tr>\n",
       "    <tr>\n",
       "      <th>18</th>\n",
       "      <td>2021</td>\n",
       "      <td>7</td>\n",
       "      <td>50</td>\n",
       "      <td>44</td>\n",
       "      <td>68</td>\n",
       "    </tr>\n",
       "    <tr>\n",
       "      <th>19</th>\n",
       "      <td>2021</td>\n",
       "      <td>8</td>\n",
       "      <td>46</td>\n",
       "      <td>37</td>\n",
       "      <td>68</td>\n",
       "    </tr>\n",
       "    <tr>\n",
       "      <th>20</th>\n",
       "      <td>2021</td>\n",
       "      <td>9</td>\n",
       "      <td>48</td>\n",
       "      <td>40</td>\n",
       "      <td>71</td>\n",
       "    </tr>\n",
       "  </tbody>\n",
       "</table>\n",
       "</div>"
      ],
      "text/plain": [
       "    Year  Month  Weness_Yes  Emotion_Yes  Strong_Emotion_Yes\n",
       "0   2020      1          36           45                  86\n",
       "1   2020      2          51           35                  76\n",
       "2   2020      3          53           36                  69\n",
       "3   2020      4          62           34                  68\n",
       "4   2020      5          57           34                  72\n",
       "5   2020      6          58           34                  78\n",
       "6   2020      7          52           34                  78\n",
       "7   2020      8          52           36                  68\n",
       "8   2020      9          57           41                  74\n",
       "9   2020     10          64           46                  79\n",
       "10  2020     11          65           48                  77\n",
       "11  2020     12          60           46                  80\n",
       "12  2021      1          55           41                  76\n",
       "13  2021      2          49           47                  71\n",
       "14  2021      3          52           43                  74\n",
       "15  2021      4          55           45                  75\n",
       "16  2021      5          45           46                  70\n",
       "17  2021      6          46           47                  69\n",
       "18  2021      7          50           44                  68\n",
       "19  2021      8          46           37                  68\n",
       "20  2021      9          48           40                  71"
      ]
     },
     "execution_count": 24,
     "metadata": {},
     "output_type": "execute_result"
    }
   ],
   "source": [
    "Total_Covid"
   ]
  },
  {
   "cell_type": "code",
   "execution_count": 25,
   "id": "636566d9",
   "metadata": {},
   "outputs": [],
   "source": [
    "list_word3=['chỉ đạo', 'vào cuộc', 'điều hành', 'lãnh đạo', 'trách nhiệm', 'yêu cầu', 'đề nghị', 'gương mẫu', \n",
    "            'đi đầu', 'biểu dương', 'đánh giá', 'phê bình', 'đảm bảo', 'phối hợp']"
   ]
  },
  {
   "cell_type": "code",
   "execution_count": 26,
   "id": "c8c6b961",
   "metadata": {},
   "outputs": [],
   "source": [
    "Data['Leadership'] = 0"
   ]
  },
  {
   "cell_type": "code",
   "execution_count": 27,
   "id": "1a65ca5c",
   "metadata": {},
   "outputs": [
    {
     "name": "stderr",
     "output_type": "stream",
     "text": [
      "<ipython-input-27-7942537c25b9>:2: SettingWithCopyWarning: \n",
      "A value is trying to be set on a copy of a slice from a DataFrame\n",
      "\n",
      "See the caveats in the documentation: https://pandas.pydata.org/pandas-docs/stable/user_guide/indexing.html#returning-a-view-versus-a-copy\n",
      "  Data['Leadership'][i]=check_word(Data['Content'][i],list_word3)\n"
     ]
    }
   ],
   "source": [
    "for i in range(Data.shape[0]):\n",
    "    Data['Leadership'][i]=check_word(Data['Content'][i],list_word3)"
   ]
  },
  {
   "cell_type": "code",
   "execution_count": 28,
   "id": "6277fec0",
   "metadata": {},
   "outputs": [
    {
     "data": {
      "text/plain": [
       "1    11619\n",
       "0     1941\n",
       "Name: Leadership, dtype: int64"
      ]
     },
     "execution_count": 28,
     "metadata": {},
     "output_type": "execute_result"
    }
   ],
   "source": [
    "Data['Leadership'].value_counts()"
   ]
  },
  {
   "cell_type": "code",
   "execution_count": 29,
   "id": "f13a8e6c",
   "metadata": {},
   "outputs": [],
   "source": [
    "Total_Covid['Leadership_Yes']  = 0"
   ]
  },
  {
   "cell_type": "code",
   "execution_count": 30,
   "id": "bc423d08",
   "metadata": {},
   "outputs": [],
   "source": [
    "for i in range(Total_Covid.shape[0]):\n",
    "    month = Total_Covid['Month'][i]\n",
    "    year = Total_Covid['Year'][i]\n",
    "    no = (Data[(Data['Year'] == year)& (Data['Month'] == month)]['Leadership']).value_counts()[0]\n",
    "    yes =  (Data[(Data['Year'] == year)& (Data['Month'] == month)]['Leadership']).value_counts()[1]\n",
    "    mean = yes/(yes+no)*100\n",
    "    Total_Covid[\"Leadership_Yes\"][i] = mean"
   ]
  },
  {
   "cell_type": "code",
   "execution_count": 31,
   "id": "fd29fdc6",
   "metadata": {},
   "outputs": [],
   "source": [
    "list_word5=['chống dịch như chống giặc', 'nhân dân là chiến sĩ', 'nhân dân là chiến sỹ', 'chiến thắng', 'niềm tin tất thắng', \n",
    "            'cuộc chiến chống COVID', 'người dân là một chiến sỹ', 'người dân là một chiến sĩ', 'mặt trận phòng chống dịch', \n",
    "            'pháo đài chống dịch', 'pháo đài', 'người dân là chiến sĩ', 'người dân là chiến sỹ', 'kẻ thù', 'chiến thắng']"
   ]
  },
  {
   "cell_type": "code",
   "execution_count": 32,
   "id": "ce3dc113",
   "metadata": {},
   "outputs": [],
   "source": [
    "Data['War'] = 0"
   ]
  },
  {
   "cell_type": "code",
   "execution_count": 33,
   "id": "bf18666f",
   "metadata": {},
   "outputs": [
    {
     "name": "stderr",
     "output_type": "stream",
     "text": [
      "<ipython-input-33-b47ac51bd30c>:2: SettingWithCopyWarning: \n",
      "A value is trying to be set on a copy of a slice from a DataFrame\n",
      "\n",
      "See the caveats in the documentation: https://pandas.pydata.org/pandas-docs/stable/user_guide/indexing.html#returning-a-view-versus-a-copy\n",
      "  Data['War'][i]=check_word(Data['Content'][i],list_word5)\n"
     ]
    }
   ],
   "source": [
    "for i in range(Data.shape[0]):\n",
    "    Data['War'][i]=check_word(Data['Content'][i],list_word5)"
   ]
  },
  {
   "cell_type": "code",
   "execution_count": 34,
   "id": "3a6277c2",
   "metadata": {},
   "outputs": [
    {
     "data": {
      "text/plain": [
       "0    12487\n",
       "1     1073\n",
       "Name: War, dtype: int64"
      ]
     },
     "execution_count": 34,
     "metadata": {},
     "output_type": "execute_result"
    }
   ],
   "source": [
    "Data['War'].value_counts()"
   ]
  },
  {
   "cell_type": "code",
   "execution_count": 35,
   "id": "3677d556",
   "metadata": {},
   "outputs": [],
   "source": [
    "Total_Covid['War_Yes']  = 0"
   ]
  },
  {
   "cell_type": "code",
   "execution_count": 36,
   "id": "9052c265",
   "metadata": {},
   "outputs": [],
   "source": [
    "for i in range(Total_Covid.shape[0]):\n",
    "    month = Total_Covid['Month'][i]\n",
    "    year = Total_Covid['Year'][i]\n",
    "    no = (Data[(Data['Year'] == year)& (Data['Month'] == month)]['War']).value_counts()[0]\n",
    "    yes =  (Data[(Data['Year'] == year)& (Data['Month'] == month)]['War']).value_counts()[1]\n",
    "    mean = yes/(yes+no)*100\n",
    "    Total_Covid[\"War_Yes\"][i] = mean"
   ]
  },
  {
   "cell_type": "code",
   "execution_count": 37,
   "id": "fdfc437c",
   "metadata": {},
   "outputs": [],
   "source": [
    "list_word6=['kiểm soát tốt', 'thành công bước đầu', 'vượt qua mọi khó khăn', 'thắng lợi bước đầu']"
   ]
  },
  {
   "cell_type": "code",
   "execution_count": 38,
   "id": "796f7b86",
   "metadata": {},
   "outputs": [],
   "source": [
    "Data['Past'] = 0"
   ]
  },
  {
   "cell_type": "code",
   "execution_count": 39,
   "id": "a9f24143",
   "metadata": {},
   "outputs": [
    {
     "name": "stderr",
     "output_type": "stream",
     "text": [
      "<ipython-input-39-7f7e58de30a4>:2: SettingWithCopyWarning: \n",
      "A value is trying to be set on a copy of a slice from a DataFrame\n",
      "\n",
      "See the caveats in the documentation: https://pandas.pydata.org/pandas-docs/stable/user_guide/indexing.html#returning-a-view-versus-a-copy\n",
      "  Data['Past'][i]=check_word(Data['Content'][i],list_word6)\n"
     ]
    }
   ],
   "source": [
    "for i in range(Data.shape[0]):\n",
    "    Data['Past'][i]=check_word(Data['Content'][i],list_word6)"
   ]
  },
  {
   "cell_type": "code",
   "execution_count": 40,
   "id": "7b03e44d",
   "metadata": {},
   "outputs": [
    {
     "data": {
      "text/plain": [
       "0    12662\n",
       "1      898\n",
       "Name: Past, dtype: int64"
      ]
     },
     "execution_count": 40,
     "metadata": {},
     "output_type": "execute_result"
    }
   ],
   "source": [
    "Data['Past'].value_counts()"
   ]
  },
  {
   "cell_type": "code",
   "execution_count": 41,
   "id": "3aafb449",
   "metadata": {},
   "outputs": [],
   "source": [
    "Total_Covid['Past_Yes']  = 0"
   ]
  },
  {
   "cell_type": "code",
   "execution_count": 42,
   "id": "b56c32b5",
   "metadata": {},
   "outputs": [],
   "source": [
    "for i in range(Total_Covid.shape[0]):\n",
    "    month = Total_Covid['Month'][i]\n",
    "    year = Total_Covid['Year'][i]\n",
    "    no = (Data[(Data['Year'] == year)& (Data['Month'] == month)]['Past']).value_counts()[0]\n",
    "    yes =  (Data[(Data['Year'] == year)& (Data['Month'] == month)]['Past']).value_counts()[1]\n",
    "    mean = yes/(yes+no)*100\n",
    "    Total_Covid[\"Past_Yes\"][i] = mean"
   ]
  },
  {
   "cell_type": "code",
   "execution_count": 43,
   "id": "65b0a4da",
   "metadata": {},
   "outputs": [],
   "source": [
    "list_word7=['kéo dài', 'thách thức lớn', 'diễn biến ngày càng phức tạp', 'diễn biến phức tạp', 'khó khăn', 'vất vả', \n",
    "            'thấu hiểu', 'chia sẻ', 'thách thức', 'cảm thông', 'tập trung tháo gỡ khó khăn', 'chăm lo', 'nhân dân ủng hộ', \n",
    "            'người dân ủng hộ', 'sẵn sàng', 'nhân dân đồng tình']"
   ]
  },
  {
   "cell_type": "code",
   "execution_count": 44,
   "id": "1be37aeb",
   "metadata": {},
   "outputs": [],
   "source": [
    "Data['Personal'] = 0"
   ]
  },
  {
   "cell_type": "code",
   "execution_count": 45,
   "id": "e3dc2011",
   "metadata": {},
   "outputs": [
    {
     "name": "stderr",
     "output_type": "stream",
     "text": [
      "<ipython-input-45-eb1a6a5869b4>:2: SettingWithCopyWarning: \n",
      "A value is trying to be set on a copy of a slice from a DataFrame\n",
      "\n",
      "See the caveats in the documentation: https://pandas.pydata.org/pandas-docs/stable/user_guide/indexing.html#returning-a-view-versus-a-copy\n",
      "  Data['Personal'][i]=check_word(Data['Content'][i],list_word7)\n"
     ]
    }
   ],
   "source": [
    "for i in range(Data.shape[0]):\n",
    "    Data['Personal'][i]=check_word(Data['Content'][i],list_word7)"
   ]
  },
  {
   "cell_type": "code",
   "execution_count": 46,
   "id": "1468bc55",
   "metadata": {},
   "outputs": [
    {
     "data": {
      "text/plain": [
       "1    9019\n",
       "0    4541\n",
       "Name: Personal, dtype: int64"
      ]
     },
     "execution_count": 46,
     "metadata": {},
     "output_type": "execute_result"
    }
   ],
   "source": [
    "Data['Personal'].value_counts()"
   ]
  },
  {
   "cell_type": "code",
   "execution_count": 47,
   "id": "ae7ebf90",
   "metadata": {},
   "outputs": [],
   "source": [
    "Total_Covid['Personal_Yes']  = 0"
   ]
  },
  {
   "cell_type": "code",
   "execution_count": 48,
   "id": "77a0e15f",
   "metadata": {},
   "outputs": [],
   "source": [
    "for i in range(Total_Covid.shape[0]):\n",
    "    month = Total_Covid['Month'][i]\n",
    "    year = Total_Covid['Year'][i]\n",
    "    no = (Data[(Data['Year'] == year)& (Data['Month'] == month)]['Personal']).value_counts()[0]\n",
    "    yes =  (Data[(Data['Year'] == year)& (Data['Month'] == month)]['Personal']).value_counts()[1]\n",
    "    mean = yes/(yes+no)*100\n",
    "    Total_Covid[\"Personal_Yes\"][i] = mean"
   ]
  },
  {
   "cell_type": "code",
   "execution_count": 49,
   "id": "61254de3",
   "metadata": {},
   "outputs": [],
   "source": [
    "list_word8=['Việt Nam được khen ngợi', 'Việt Nam được ca ngợi', 'Việt Nam được đánh giá', 'Việt Nam đi đúng hướng', \n",
    "            'Việt Nam làm tốt', 'Bài học từ Việt Nam', 'thành công của Việt Nam', 'thành công chống dịch của Việt Nam', \n",
    "            'ca ngợi Việt Nam', 'Việt Nam thành công']"
   ]
  },
  {
   "cell_type": "code",
   "execution_count": 50,
   "id": "d94c23d7",
   "metadata": {},
   "outputs": [],
   "source": [
    "Data['Report'] = 0"
   ]
  },
  {
   "cell_type": "code",
   "execution_count": 51,
   "id": "caac5738",
   "metadata": {},
   "outputs": [
    {
     "name": "stderr",
     "output_type": "stream",
     "text": [
      "<ipython-input-51-a84be4347c6c>:2: SettingWithCopyWarning: \n",
      "A value is trying to be set on a copy of a slice from a DataFrame\n",
      "\n",
      "See the caveats in the documentation: https://pandas.pydata.org/pandas-docs/stable/user_guide/indexing.html#returning-a-view-versus-a-copy\n",
      "  Data['Report'][i]=check_word(Data['Content'][i],list_word8)\n"
     ]
    }
   ],
   "source": [
    "for i in range(Data.shape[0]):\n",
    "    Data['Report'][i]=check_word(Data['Content'][i],list_word8)"
   ]
  },
  {
   "cell_type": "code",
   "execution_count": 52,
   "id": "4fb87b49",
   "metadata": {},
   "outputs": [],
   "source": [
    "Total_Covid['Report_Yes']  = 0"
   ]
  },
  {
   "cell_type": "code",
   "execution_count": 53,
   "id": "57a7d966",
   "metadata": {},
   "outputs": [
    {
     "data": {
      "text/plain": [
       "0    13409\n",
       "1      151\n",
       "Name: Report, dtype: int64"
      ]
     },
     "execution_count": 53,
     "metadata": {},
     "output_type": "execute_result"
    }
   ],
   "source": [
    "Data['Report'].value_counts()"
   ]
  },
  {
   "cell_type": "code",
   "execution_count": 54,
   "id": "9aa6c6bf",
   "metadata": {},
   "outputs": [],
   "source": [
    "list_word9=['hiệu quả', 'thắng lợi', 'chủ động', 'sáng tạo', 'kịp thời', 'khẩn trương', 'phát huy vai trò']"
   ]
  },
  {
   "cell_type": "code",
   "execution_count": 55,
   "id": "e6b73b50",
   "metadata": {},
   "outputs": [],
   "source": [
    "Data['Competence'] = 0"
   ]
  },
  {
   "cell_type": "code",
   "execution_count": 56,
   "id": "833b3a8e",
   "metadata": {},
   "outputs": [
    {
     "name": "stderr",
     "output_type": "stream",
     "text": [
      "<ipython-input-56-7fbd5dada8c2>:2: SettingWithCopyWarning: \n",
      "A value is trying to be set on a copy of a slice from a DataFrame\n",
      "\n",
      "See the caveats in the documentation: https://pandas.pydata.org/pandas-docs/stable/user_guide/indexing.html#returning-a-view-versus-a-copy\n",
      "  Data['Competence'][i]=check_word(Data['Content'][i],list_word9)\n"
     ]
    }
   ],
   "source": [
    "for i in range(Data.shape[0]):\n",
    "    Data['Competence'][i]=check_word(Data['Content'][i],list_word9)"
   ]
  },
  {
   "cell_type": "code",
   "execution_count": 57,
   "id": "4486ad1e",
   "metadata": {},
   "outputs": [
    {
     "data": {
      "text/plain": [
       "1    8880\n",
       "0    4680\n",
       "Name: Competence, dtype: int64"
      ]
     },
     "execution_count": 57,
     "metadata": {},
     "output_type": "execute_result"
    }
   ],
   "source": [
    "Data['Competence'].value_counts()"
   ]
  },
  {
   "cell_type": "code",
   "execution_count": 58,
   "id": "042f8fff",
   "metadata": {},
   "outputs": [],
   "source": [
    "Total_Covid['Competence_Yes']  = 0"
   ]
  },
  {
   "cell_type": "code",
   "execution_count": 59,
   "id": "ae5ff325",
   "metadata": {},
   "outputs": [],
   "source": [
    "for i in range(Total_Covid.shape[0]):\n",
    "    month = Total_Covid['Month'][i]\n",
    "    year = Total_Covid['Year'][i]\n",
    "    no = (Data[(Data['Year'] == year)& (Data['Month'] == month)]['Competence']).value_counts()[0]\n",
    "    yes =  (Data[(Data['Year'] == year)& (Data['Month'] == month)]['Competence']).value_counts()[1]\n",
    "    mean = yes/(yes+no)*100\n",
    "    Total_Covid[\"Competence_Yes\"][i] = mean"
   ]
  },
  {
   "cell_type": "code",
   "execution_count": 60,
   "id": "95bbfdac",
   "metadata": {},
   "outputs": [],
   "source": [
    "list_word10=['đảm bảo', 'khách quan', 'công khai', 'minh bạch', 'rõ ràng']"
   ]
  },
  {
   "cell_type": "code",
   "execution_count": 61,
   "id": "eb478cba",
   "metadata": {},
   "outputs": [],
   "source": [
    "Data['Transparency'] = 0"
   ]
  },
  {
   "cell_type": "code",
   "execution_count": 62,
   "id": "a07393a4",
   "metadata": {},
   "outputs": [
    {
     "name": "stderr",
     "output_type": "stream",
     "text": [
      "<ipython-input-62-6af973c67931>:2: SettingWithCopyWarning: \n",
      "A value is trying to be set on a copy of a slice from a DataFrame\n",
      "\n",
      "See the caveats in the documentation: https://pandas.pydata.org/pandas-docs/stable/user_guide/indexing.html#returning-a-view-versus-a-copy\n",
      "  Data['Transparency'][i]=check_word(Data['Content'][i],list_word10)\n"
     ]
    }
   ],
   "source": [
    "for i in range(Data.shape[0]):\n",
    "    Data['Transparency'][i]=check_word(Data['Content'][i],list_word10)"
   ]
  },
  {
   "cell_type": "code",
   "execution_count": 63,
   "id": "e28b6f14",
   "metadata": {},
   "outputs": [
    {
     "data": {
      "text/plain": [
       "0    8407\n",
       "1    5153\n",
       "Name: Transparency, dtype: int64"
      ]
     },
     "execution_count": 63,
     "metadata": {},
     "output_type": "execute_result"
    }
   ],
   "source": [
    "Data['Transparency'].value_counts()"
   ]
  },
  {
   "cell_type": "code",
   "execution_count": 64,
   "id": "dc6f1a1a",
   "metadata": {},
   "outputs": [],
   "source": [
    "Total_Covid['Transparency_Yes']  = 0"
   ]
  },
  {
   "cell_type": "code",
   "execution_count": 65,
   "id": "c558a54c",
   "metadata": {},
   "outputs": [],
   "source": [
    "for i in range(Total_Covid.shape[0]):\n",
    "    month = Total_Covid['Month'][i]\n",
    "    year = Total_Covid['Year'][i]\n",
    "    no = (Data[(Data['Year'] == year)& (Data['Month'] == month)]['Transparency']).value_counts()[0]\n",
    "    yes =  (Data[(Data['Year'] == year)& (Data['Month'] == month)]['Transparency']).value_counts()[1]\n",
    "    mean = yes/(yes+no)*100\n",
    "    Total_Covid[\"Transparency_Yes\"][i] = mean"
   ]
  },
  {
   "cell_type": "code",
   "execution_count": 66,
   "id": "65153058",
   "metadata": {},
   "outputs": [],
   "source": [
    "list_word11=['thống nhất', 'nhất quán', 'đồng bộ']"
   ]
  },
  {
   "cell_type": "code",
   "execution_count": 67,
   "id": "0e020df1",
   "metadata": {},
   "outputs": [],
   "source": [
    "Data['Consistency'] = 0"
   ]
  },
  {
   "cell_type": "code",
   "execution_count": 68,
   "id": "e33031e9",
   "metadata": {},
   "outputs": [
    {
     "name": "stderr",
     "output_type": "stream",
     "text": [
      "<ipython-input-68-010e548be299>:2: SettingWithCopyWarning: \n",
      "A value is trying to be set on a copy of a slice from a DataFrame\n",
      "\n",
      "See the caveats in the documentation: https://pandas.pydata.org/pandas-docs/stable/user_guide/indexing.html#returning-a-view-versus-a-copy\n",
      "  Data['Consistency'][i]=check_word(Data['Content'][i],list_word11)\n"
     ]
    }
   ],
   "source": [
    "for i in range(Data.shape[0]):\n",
    "    Data['Consistency'][i]=check_word(Data['Content'][i],list_word11)"
   ]
  },
  {
   "cell_type": "code",
   "execution_count": 69,
   "id": "c38395dc",
   "metadata": {},
   "outputs": [
    {
     "data": {
      "text/plain": [
       "0    10133\n",
       "1     3427\n",
       "Name: Consistency, dtype: int64"
      ]
     },
     "execution_count": 69,
     "metadata": {},
     "output_type": "execute_result"
    }
   ],
   "source": [
    "Data['Consistency'].value_counts()"
   ]
  },
  {
   "cell_type": "code",
   "execution_count": 70,
   "id": "d8bb91fd",
   "metadata": {},
   "outputs": [],
   "source": [
    "Total_Covid['Consistency_Yes']  = 0"
   ]
  },
  {
   "cell_type": "code",
   "execution_count": 71,
   "id": "8a0dd739",
   "metadata": {},
   "outputs": [],
   "source": [
    "for i in range(Total_Covid.shape[0]):\n",
    "    month = Total_Covid['Month'][i]\n",
    "    year = Total_Covid['Year'][i]\n",
    "    no = (Data[(Data['Year'] == year)& (Data['Month'] == month)]['Consistency']).value_counts()[0]\n",
    "    yes =  (Data[(Data['Year'] == year)& (Data['Month'] == month)]['Consistency']).value_counts()[1]\n",
    "    mean = yes/(yes+no)*100\n",
    "    Total_Covid[\"Consistency_Yes\"][i] = mean"
   ]
  },
  {
   "cell_type": "code",
   "execution_count": 72,
   "id": "18fa8b9d",
   "metadata": {},
   "outputs": [],
   "source": [
    "list_word12=['phản bác', 'lên án', 'xuyên tạc', 'chống phá', 'phát ngôn sai sự thật', 'xử lý tin giả', 'đính chính', \n",
    "             'tin sai sự thật', 'tin không chính xác', 'sự thật', 'sai sự thật', 'tin giả', 'bóp méo', 'rối loạn thông tin', \n",
    "             'câu view', 'câu like', 'tin chính thống', 'tin đồn', 'xử lý tin sai sự thật']"
   ]
  },
  {
   "cell_type": "code",
   "execution_count": 73,
   "id": "1ca863f0",
   "metadata": {},
   "outputs": [],
   "source": [
    "Data['FakeNews'] = 0"
   ]
  },
  {
   "cell_type": "code",
   "execution_count": 74,
   "id": "a1054aa7",
   "metadata": {},
   "outputs": [
    {
     "name": "stderr",
     "output_type": "stream",
     "text": [
      "<ipython-input-74-8580ffa33f3d>:2: SettingWithCopyWarning: \n",
      "A value is trying to be set on a copy of a slice from a DataFrame\n",
      "\n",
      "See the caveats in the documentation: https://pandas.pydata.org/pandas-docs/stable/user_guide/indexing.html#returning-a-view-versus-a-copy\n",
      "  Data['FakeNews'][i]=check_word(Data['Content'][i],list_word12)\n"
     ]
    }
   ],
   "source": [
    "for i in range(Data.shape[0]):\n",
    "    Data['FakeNews'][i]=check_word(Data['Content'][i],list_word12)"
   ]
  },
  {
   "cell_type": "code",
   "execution_count": 75,
   "id": "629aa8b2",
   "metadata": {},
   "outputs": [
    {
     "data": {
      "text/plain": [
       "0    13029\n",
       "1      531\n",
       "Name: FakeNews, dtype: int64"
      ]
     },
     "execution_count": 75,
     "metadata": {},
     "output_type": "execute_result"
    }
   ],
   "source": [
    "Data['FakeNews'].value_counts()"
   ]
  },
  {
   "cell_type": "code",
   "execution_count": 76,
   "id": "aec176b2",
   "metadata": {},
   "outputs": [],
   "source": [
    "Total_Covid['FakeNews_Yes']  = 0"
   ]
  },
  {
   "cell_type": "code",
   "execution_count": 77,
   "id": "2ca8d8f1",
   "metadata": {},
   "outputs": [],
   "source": [
    "for i in range(Total_Covid.shape[0]):\n",
    "    month = Total_Covid['Month'][i]\n",
    "    year = Total_Covid['Year'][i]\n",
    "    no = (Data[(Data['Year'] == year)& (Data['Month'] == month)]['FakeNews']).value_counts()[0]\n",
    "    yes =  (Data[(Data['Year'] == year)& (Data['Month'] == month)]['FakeNews']).value_counts()[1]\n",
    "    mean = yes/(yes+no)*100\n",
    "    Total_Covid[\"FakeNews_Yes\"][i] = mean"
   ]
  },
  {
   "cell_type": "code",
   "execution_count": 78,
   "id": "482345db",
   "metadata": {},
   "outputs": [
    {
     "data": {
      "text/html": [
       "<div>\n",
       "<style scoped>\n",
       "    .dataframe tbody tr th:only-of-type {\n",
       "        vertical-align: middle;\n",
       "    }\n",
       "\n",
       "    .dataframe tbody tr th {\n",
       "        vertical-align: top;\n",
       "    }\n",
       "\n",
       "    .dataframe thead th {\n",
       "        text-align: right;\n",
       "    }\n",
       "</style>\n",
       "<table border=\"1\" class=\"dataframe\">\n",
       "  <thead>\n",
       "    <tr style=\"text-align: right;\">\n",
       "      <th></th>\n",
       "      <th>Year</th>\n",
       "      <th>Month</th>\n",
       "      <th>Weness_Yes</th>\n",
       "      <th>Emotion_Yes</th>\n",
       "      <th>Strong_Emotion_Yes</th>\n",
       "      <th>Leadership_Yes</th>\n",
       "      <th>War_Yes</th>\n",
       "      <th>Past_Yes</th>\n",
       "      <th>Personal_Yes</th>\n",
       "      <th>Report_Yes</th>\n",
       "      <th>Competence_Yes</th>\n",
       "      <th>Transparency_Yes</th>\n",
       "      <th>Consistency_Yes</th>\n",
       "      <th>FakeNews_Yes</th>\n",
       "    </tr>\n",
       "  </thead>\n",
       "  <tbody>\n",
       "    <tr>\n",
       "      <th>0</th>\n",
       "      <td>2020</td>\n",
       "      <td>1</td>\n",
       "      <td>36</td>\n",
       "      <td>45</td>\n",
       "      <td>86</td>\n",
       "      <td>93</td>\n",
       "      <td>4</td>\n",
       "      <td>10</td>\n",
       "      <td>74</td>\n",
       "      <td>0</td>\n",
       "      <td>75</td>\n",
       "      <td>44</td>\n",
       "      <td>22</td>\n",
       "      <td>10</td>\n",
       "    </tr>\n",
       "    <tr>\n",
       "      <th>1</th>\n",
       "      <td>2020</td>\n",
       "      <td>2</td>\n",
       "      <td>51</td>\n",
       "      <td>35</td>\n",
       "      <td>76</td>\n",
       "      <td>89</td>\n",
       "      <td>8</td>\n",
       "      <td>12</td>\n",
       "      <td>67</td>\n",
       "      <td>0</td>\n",
       "      <td>69</td>\n",
       "      <td>39</td>\n",
       "      <td>30</td>\n",
       "      <td>6</td>\n",
       "    </tr>\n",
       "    <tr>\n",
       "      <th>2</th>\n",
       "      <td>2020</td>\n",
       "      <td>3</td>\n",
       "      <td>53</td>\n",
       "      <td>36</td>\n",
       "      <td>69</td>\n",
       "      <td>85</td>\n",
       "      <td>12</td>\n",
       "      <td>4</td>\n",
       "      <td>62</td>\n",
       "      <td>0</td>\n",
       "      <td>63</td>\n",
       "      <td>34</td>\n",
       "      <td>20</td>\n",
       "      <td>7</td>\n",
       "    </tr>\n",
       "    <tr>\n",
       "      <th>3</th>\n",
       "      <td>2020</td>\n",
       "      <td>4</td>\n",
       "      <td>62</td>\n",
       "      <td>34</td>\n",
       "      <td>68</td>\n",
       "      <td>88</td>\n",
       "      <td>10</td>\n",
       "      <td>6</td>\n",
       "      <td>64</td>\n",
       "      <td>0</td>\n",
       "      <td>59</td>\n",
       "      <td>38</td>\n",
       "      <td>24</td>\n",
       "      <td>5</td>\n",
       "    </tr>\n",
       "    <tr>\n",
       "      <th>4</th>\n",
       "      <td>2020</td>\n",
       "      <td>5</td>\n",
       "      <td>57</td>\n",
       "      <td>34</td>\n",
       "      <td>72</td>\n",
       "      <td>87</td>\n",
       "      <td>6</td>\n",
       "      <td>9</td>\n",
       "      <td>71</td>\n",
       "      <td>0</td>\n",
       "      <td>64</td>\n",
       "      <td>37</td>\n",
       "      <td>29</td>\n",
       "      <td>5</td>\n",
       "    </tr>\n",
       "    <tr>\n",
       "      <th>5</th>\n",
       "      <td>2020</td>\n",
       "      <td>6</td>\n",
       "      <td>58</td>\n",
       "      <td>34</td>\n",
       "      <td>78</td>\n",
       "      <td>85</td>\n",
       "      <td>5</td>\n",
       "      <td>7</td>\n",
       "      <td>70</td>\n",
       "      <td>0</td>\n",
       "      <td>68</td>\n",
       "      <td>32</td>\n",
       "      <td>30</td>\n",
       "      <td>3</td>\n",
       "    </tr>\n",
       "    <tr>\n",
       "      <th>6</th>\n",
       "      <td>2020</td>\n",
       "      <td>7</td>\n",
       "      <td>52</td>\n",
       "      <td>34</td>\n",
       "      <td>78</td>\n",
       "      <td>87</td>\n",
       "      <td>3</td>\n",
       "      <td>8</td>\n",
       "      <td>69</td>\n",
       "      <td>0</td>\n",
       "      <td>68</td>\n",
       "      <td>34</td>\n",
       "      <td>29</td>\n",
       "      <td>3</td>\n",
       "    </tr>\n",
       "    <tr>\n",
       "      <th>7</th>\n",
       "      <td>2020</td>\n",
       "      <td>8</td>\n",
       "      <td>52</td>\n",
       "      <td>36</td>\n",
       "      <td>68</td>\n",
       "      <td>82</td>\n",
       "      <td>7</td>\n",
       "      <td>3</td>\n",
       "      <td>59</td>\n",
       "      <td>0</td>\n",
       "      <td>60</td>\n",
       "      <td>38</td>\n",
       "      <td>22</td>\n",
       "      <td>2</td>\n",
       "    </tr>\n",
       "    <tr>\n",
       "      <th>8</th>\n",
       "      <td>2020</td>\n",
       "      <td>9</td>\n",
       "      <td>57</td>\n",
       "      <td>41</td>\n",
       "      <td>74</td>\n",
       "      <td>85</td>\n",
       "      <td>4</td>\n",
       "      <td>8</td>\n",
       "      <td>67</td>\n",
       "      <td>0</td>\n",
       "      <td>66</td>\n",
       "      <td>37</td>\n",
       "      <td>28</td>\n",
       "      <td>3</td>\n",
       "    </tr>\n",
       "    <tr>\n",
       "      <th>9</th>\n",
       "      <td>2020</td>\n",
       "      <td>10</td>\n",
       "      <td>64</td>\n",
       "      <td>46</td>\n",
       "      <td>79</td>\n",
       "      <td>88</td>\n",
       "      <td>4</td>\n",
       "      <td>9</td>\n",
       "      <td>71</td>\n",
       "      <td>0</td>\n",
       "      <td>68</td>\n",
       "      <td>44</td>\n",
       "      <td>34</td>\n",
       "      <td>3</td>\n",
       "    </tr>\n",
       "    <tr>\n",
       "      <th>10</th>\n",
       "      <td>2020</td>\n",
       "      <td>11</td>\n",
       "      <td>65</td>\n",
       "      <td>48</td>\n",
       "      <td>77</td>\n",
       "      <td>89</td>\n",
       "      <td>3</td>\n",
       "      <td>11</td>\n",
       "      <td>72</td>\n",
       "      <td>0</td>\n",
       "      <td>69</td>\n",
       "      <td>35</td>\n",
       "      <td>30</td>\n",
       "      <td>3</td>\n",
       "    </tr>\n",
       "    <tr>\n",
       "      <th>11</th>\n",
       "      <td>2020</td>\n",
       "      <td>12</td>\n",
       "      <td>60</td>\n",
       "      <td>46</td>\n",
       "      <td>80</td>\n",
       "      <td>91</td>\n",
       "      <td>5</td>\n",
       "      <td>8</td>\n",
       "      <td>74</td>\n",
       "      <td>0</td>\n",
       "      <td>71</td>\n",
       "      <td>42</td>\n",
       "      <td>33</td>\n",
       "      <td>4</td>\n",
       "    </tr>\n",
       "    <tr>\n",
       "      <th>12</th>\n",
       "      <td>2021</td>\n",
       "      <td>1</td>\n",
       "      <td>55</td>\n",
       "      <td>41</td>\n",
       "      <td>76</td>\n",
       "      <td>89</td>\n",
       "      <td>4</td>\n",
       "      <td>6</td>\n",
       "      <td>70</td>\n",
       "      <td>0</td>\n",
       "      <td>71</td>\n",
       "      <td>44</td>\n",
       "      <td>30</td>\n",
       "      <td>4</td>\n",
       "    </tr>\n",
       "    <tr>\n",
       "      <th>13</th>\n",
       "      <td>2021</td>\n",
       "      <td>2</td>\n",
       "      <td>49</td>\n",
       "      <td>47</td>\n",
       "      <td>71</td>\n",
       "      <td>86</td>\n",
       "      <td>7</td>\n",
       "      <td>8</td>\n",
       "      <td>62</td>\n",
       "      <td>0</td>\n",
       "      <td>64</td>\n",
       "      <td>41</td>\n",
       "      <td>19</td>\n",
       "      <td>3</td>\n",
       "    </tr>\n",
       "    <tr>\n",
       "      <th>14</th>\n",
       "      <td>2021</td>\n",
       "      <td>3</td>\n",
       "      <td>52</td>\n",
       "      <td>43</td>\n",
       "      <td>74</td>\n",
       "      <td>85</td>\n",
       "      <td>5</td>\n",
       "      <td>5</td>\n",
       "      <td>64</td>\n",
       "      <td>0</td>\n",
       "      <td>66</td>\n",
       "      <td>41</td>\n",
       "      <td>22</td>\n",
       "      <td>3</td>\n",
       "    </tr>\n",
       "    <tr>\n",
       "      <th>15</th>\n",
       "      <td>2021</td>\n",
       "      <td>4</td>\n",
       "      <td>55</td>\n",
       "      <td>45</td>\n",
       "      <td>75</td>\n",
       "      <td>85</td>\n",
       "      <td>3</td>\n",
       "      <td>8</td>\n",
       "      <td>68</td>\n",
       "      <td>0</td>\n",
       "      <td>64</td>\n",
       "      <td>36</td>\n",
       "      <td>24</td>\n",
       "      <td>2</td>\n",
       "    </tr>\n",
       "    <tr>\n",
       "      <th>16</th>\n",
       "      <td>2021</td>\n",
       "      <td>5</td>\n",
       "      <td>45</td>\n",
       "      <td>46</td>\n",
       "      <td>70</td>\n",
       "      <td>80</td>\n",
       "      <td>8</td>\n",
       "      <td>5</td>\n",
       "      <td>58</td>\n",
       "      <td>0</td>\n",
       "      <td>65</td>\n",
       "      <td>40</td>\n",
       "      <td>18</td>\n",
       "      <td>3</td>\n",
       "    </tr>\n",
       "    <tr>\n",
       "      <th>17</th>\n",
       "      <td>2021</td>\n",
       "      <td>6</td>\n",
       "      <td>46</td>\n",
       "      <td>47</td>\n",
       "      <td>69</td>\n",
       "      <td>79</td>\n",
       "      <td>9</td>\n",
       "      <td>5</td>\n",
       "      <td>59</td>\n",
       "      <td>0</td>\n",
       "      <td>63</td>\n",
       "      <td>38</td>\n",
       "      <td>21</td>\n",
       "      <td>2</td>\n",
       "    </tr>\n",
       "    <tr>\n",
       "      <th>18</th>\n",
       "      <td>2021</td>\n",
       "      <td>7</td>\n",
       "      <td>50</td>\n",
       "      <td>44</td>\n",
       "      <td>68</td>\n",
       "      <td>83</td>\n",
       "      <td>9</td>\n",
       "      <td>4</td>\n",
       "      <td>64</td>\n",
       "      <td>0</td>\n",
       "      <td>62</td>\n",
       "      <td>39</td>\n",
       "      <td>26</td>\n",
       "      <td>4</td>\n",
       "    </tr>\n",
       "    <tr>\n",
       "      <th>19</th>\n",
       "      <td>2021</td>\n",
       "      <td>8</td>\n",
       "      <td>46</td>\n",
       "      <td>37</td>\n",
       "      <td>68</td>\n",
       "      <td>86</td>\n",
       "      <td>10</td>\n",
       "      <td>3</td>\n",
       "      <td>71</td>\n",
       "      <td>0</td>\n",
       "      <td>64</td>\n",
       "      <td>32</td>\n",
       "      <td>22</td>\n",
       "      <td>3</td>\n",
       "    </tr>\n",
       "    <tr>\n",
       "      <th>20</th>\n",
       "      <td>2021</td>\n",
       "      <td>9</td>\n",
       "      <td>48</td>\n",
       "      <td>40</td>\n",
       "      <td>71</td>\n",
       "      <td>86</td>\n",
       "      <td>12</td>\n",
       "      <td>5</td>\n",
       "      <td>72</td>\n",
       "      <td>0</td>\n",
       "      <td>66</td>\n",
       "      <td>33</td>\n",
       "      <td>26</td>\n",
       "      <td>2</td>\n",
       "    </tr>\n",
       "  </tbody>\n",
       "</table>\n",
       "</div>"
      ],
      "text/plain": [
       "    Year  Month  Weness_Yes  Emotion_Yes  Strong_Emotion_Yes  Leadership_Yes  \\\n",
       "0   2020      1          36           45                  86              93   \n",
       "1   2020      2          51           35                  76              89   \n",
       "2   2020      3          53           36                  69              85   \n",
       "3   2020      4          62           34                  68              88   \n",
       "4   2020      5          57           34                  72              87   \n",
       "5   2020      6          58           34                  78              85   \n",
       "6   2020      7          52           34                  78              87   \n",
       "7   2020      8          52           36                  68              82   \n",
       "8   2020      9          57           41                  74              85   \n",
       "9   2020     10          64           46                  79              88   \n",
       "10  2020     11          65           48                  77              89   \n",
       "11  2020     12          60           46                  80              91   \n",
       "12  2021      1          55           41                  76              89   \n",
       "13  2021      2          49           47                  71              86   \n",
       "14  2021      3          52           43                  74              85   \n",
       "15  2021      4          55           45                  75              85   \n",
       "16  2021      5          45           46                  70              80   \n",
       "17  2021      6          46           47                  69              79   \n",
       "18  2021      7          50           44                  68              83   \n",
       "19  2021      8          46           37                  68              86   \n",
       "20  2021      9          48           40                  71              86   \n",
       "\n",
       "    War_Yes  Past_Yes  Personal_Yes  Report_Yes  Competence_Yes  \\\n",
       "0         4        10            74           0              75   \n",
       "1         8        12            67           0              69   \n",
       "2        12         4            62           0              63   \n",
       "3        10         6            64           0              59   \n",
       "4         6         9            71           0              64   \n",
       "5         5         7            70           0              68   \n",
       "6         3         8            69           0              68   \n",
       "7         7         3            59           0              60   \n",
       "8         4         8            67           0              66   \n",
       "9         4         9            71           0              68   \n",
       "10        3        11            72           0              69   \n",
       "11        5         8            74           0              71   \n",
       "12        4         6            70           0              71   \n",
       "13        7         8            62           0              64   \n",
       "14        5         5            64           0              66   \n",
       "15        3         8            68           0              64   \n",
       "16        8         5            58           0              65   \n",
       "17        9         5            59           0              63   \n",
       "18        9         4            64           0              62   \n",
       "19       10         3            71           0              64   \n",
       "20       12         5            72           0              66   \n",
       "\n",
       "    Transparency_Yes  Consistency_Yes  FakeNews_Yes  \n",
       "0                 44               22            10  \n",
       "1                 39               30             6  \n",
       "2                 34               20             7  \n",
       "3                 38               24             5  \n",
       "4                 37               29             5  \n",
       "5                 32               30             3  \n",
       "6                 34               29             3  \n",
       "7                 38               22             2  \n",
       "8                 37               28             3  \n",
       "9                 44               34             3  \n",
       "10                35               30             3  \n",
       "11                42               33             4  \n",
       "12                44               30             4  \n",
       "13                41               19             3  \n",
       "14                41               22             3  \n",
       "15                36               24             2  \n",
       "16                40               18             3  \n",
       "17                38               21             2  \n",
       "18                39               26             4  \n",
       "19                32               22             3  \n",
       "20                33               26             2  "
      ]
     },
     "execution_count": 78,
     "metadata": {},
     "output_type": "execute_result"
    }
   ],
   "source": [
    "Total_Covid"
   ]
  },
  {
   "cell_type": "code",
   "execution_count": 79,
   "id": "64282928",
   "metadata": {},
   "outputs": [],
   "source": [
    "#Total_Covid.to_csv(\"Total_Covid.csv\", index=False)"
   ]
  },
  {
   "cell_type": "code",
   "execution_count": 80,
   "id": "bbfa942a",
   "metadata": {},
   "outputs": [],
   "source": [
    "#Data.to_csv(\"Count_Data.csv\", index = False)"
   ]
  },
  {
   "cell_type": "code",
   "execution_count": null,
   "id": "86c66a3a",
   "metadata": {},
   "outputs": [],
   "source": []
  }
 ],
 "metadata": {
  "kernelspec": {
   "display_name": "Python 3",
   "language": "python",
   "name": "python3"
  },
  "language_info": {
   "codemirror_mode": {
    "name": "ipython",
    "version": 3
   },
   "file_extension": ".py",
   "mimetype": "text/x-python",
   "name": "python",
   "nbconvert_exporter": "python",
   "pygments_lexer": "ipython3",
   "version": "3.8.8"
  }
 },
 "nbformat": 4,
 "nbformat_minor": 5
}
